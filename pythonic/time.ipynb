{
 "cells": [
  {
   "cell_type": "code",
   "execution_count": 1,
   "metadata": {},
   "outputs": [],
   "source": [
    "# import numpy as np\n",
    "# import pandas as pd"
   ]
  },
  {
   "cell_type": "code",
   "execution_count": 2,
   "metadata": {},
   "outputs": [],
   "source": [
    "import math\n",
    "n=100000"
   ]
  },
  {
   "cell_type": "code",
   "execution_count": 5,
   "metadata": {},
   "outputs": [
    {
     "name": "stdout",
     "output_type": "stream",
     "text": [
      "4.053948940531981\n"
     ]
    }
   ],
   "source": [
    "print(math.log(math.log(n, 2), 2))"
   ]
  },
  {
   "cell_type": "code",
   "execution_count": 1,
   "metadata": {},
   "outputs": [],
   "source": [
    "# print(math.sqrt(math.log(n, 4)))\n",
    "# print(math.log(n, 3))\n",
    "# print(math.log(n, 2) ** 2)\n",
    "# print(math.sqrt(n))\n",
    "# print(n / math.log(n, 5))\n",
    "# print(math.log(math.factorial(n),2))\n",
    "# print(3 ** math.log(n, 2))\n",
    "# print(n ** 2)\n",
    "# print(7 ** (math.log(n, 2)))\n",
    "# print(math.log(n, 2) ** (math.log(n, 2)))\n",
    "# print('-'*50)\n",
    "# print(n ** (math.log(n, 2)))\n",
    "# print('-'*50)\n",
    "# # print(n ** (math.sqrt(n)))\n",
    "# print('-'*50)\n",
    "# print(2 ** n)\n",
    "# print('-'*50)\n",
    "# print(4 ** n)\n",
    "# print('-'*50)\n",
    "# print(2 ** (3 * n))\n",
    "# print('-'*50)\n",
    "# print(math.factorial(n))"
   ]
  },
  {
   "cell_type": "code",
   "execution_count": null,
   "metadata": {},
   "outputs": [],
   "source": []
  }
 ],
 "metadata": {
  "kernelspec": {
   "display_name": "Python 3",
   "language": "python",
   "name": "python3"
  },
  "language_info": {
   "codemirror_mode": {
    "name": "ipython",
    "version": 3
   },
   "file_extension": ".py",
   "mimetype": "text/x-python",
   "name": "python",
   "nbconvert_exporter": "python",
   "pygments_lexer": "ipython3",
   "version": "3.7.2"
  }
 },
 "nbformat": 4,
 "nbformat_minor": 4
}
