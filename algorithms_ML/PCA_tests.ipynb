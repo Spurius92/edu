{
 "cells": [
  {
   "cell_type": "markdown",
   "metadata": {},
   "source": [
    "Following this tutorial: https://www.youtube.com/watch?v=Lsue2gEM9D0"
   ]
  },
  {
   "cell_type": "code",
   "execution_count": 3,
   "metadata": {},
   "outputs": [],
   "source": [
    "import pandas as pd\n",
    "import numpy as np\n",
    "import random\n",
    "from sklearn.decomposition import PCA\n",
    "from sklearn import preprocessing\n",
    "import matplotlib.pyplot as plt"
   ]
  },
  {
   "cell_type": "code",
   "execution_count": 17,
   "metadata": {},
   "outputs": [],
   "source": [
    "SEED = 42\n",
    "np.random.seed(SEED)\n",
    "random.seed(SEED)"
   ]
  },
  {
   "cell_type": "code",
   "execution_count": 18,
   "metadata": {},
   "outputs": [],
   "source": [
    "genes = ['gene' + str(i) for i in range(1, 101)]\n",
    "wt = ['wt' + str(i) for i in range(1, 6)]\n",
    "ko = ['ko' + str(i) for i in range(1, 6)]\n",
    "train = pd.DataFrame(columns=[*wt, *ko], index=genes) "
   ]
  },
  {
   "cell_type": "code",
   "execution_count": 19,
   "metadata": {},
   "outputs": [],
   "source": [
    "for gene in train.index:\n",
    "    train.loc[gene, 'wt1':'wt5'] = np.random.poisson(lam=random.randrange(10, 1000), size=5)\n",
    "    train.loc[gene, 'ko1':'ko5'] = np.random.poisson(lam=random.randrange(10, 1000), size=5)"
   ]
  },
  {
   "cell_type": "code",
   "execution_count": 20,
   "metadata": {},
   "outputs": [
    {
     "data": {
      "text/plain": [
       "array([772, 822, 787, 807, 789])"
      ]
     },
     "execution_count": 20,
     "metadata": {},
     "output_type": "execute_result"
    }
   ],
   "source": [
    "np.random.poisson(lam=random.randrange(10, 1000), size=5)"
   ]
  },
  {
   "cell_type": "code",
   "execution_count": 24,
   "metadata": {},
   "outputs": [
    {
     "name": "stderr",
     "output_type": "stream",
     "text": [
      "c:\\users\\spurius\\appdata\\local\\programs\\python\\python37\\lib\\site-packages\\ipykernel_launcher.py:1: DataConversionWarning: Data with input dtype int64 were all converted to float64 by the scale function.\n",
      "  \"\"\"Entry point for launching an IPython kernel.\n"
     ]
    }
   ],
   "source": [
    "scaled_data = preprocessing.scale(train.T)"
   ]
  },
  {
   "cell_type": "code",
   "execution_count": 29,
   "metadata": {},
   "outputs": [],
   "source": [
    "pca = PCA()\n",
    "pca.fit(scaled_data)\n",
    "pca_data = pca.transform(scaled_data)"
   ]
  },
  {
   "cell_type": "code",
   "execution_count": 30,
   "metadata": {},
   "outputs": [],
   "source": [
    "per_var = np.round(pca.explained_variance_ratio_*100, decimals=1)"
   ]
  },
  {
   "cell_type": "code",
   "execution_count": 44,
   "metadata": {},
   "outputs": [
    {
     "data": {
      "text/plain": [
       "array([88. ,  2.9,  2.6,  2. ,  1.3,  1.1,  0.9,  0.8,  0.5,  0. ])"
      ]
     },
     "execution_count": 44,
     "metadata": {},
     "output_type": "execute_result"
    }
   ],
   "source": [
    "per_var"
   ]
  },
  {
   "cell_type": "code",
   "execution_count": 34,
   "metadata": {},
   "outputs": [],
   "source": [
    "labels = ['PC' + str(i) for i in range(1, len(per_var) + 1)]"
   ]
  },
  {
   "cell_type": "code",
   "execution_count": 35,
   "metadata": {},
   "outputs": [
    {
     "data": {
      "text/plain": [
       "['PC1', 'PC2', 'PC3', 'PC4', 'PC5', 'PC6', 'PC7', 'PC8', 'PC9', 'PC10']"
      ]
     },
     "execution_count": 35,
     "metadata": {},
     "output_type": "execute_result"
    }
   ],
   "source": [
    "labels"
   ]
  },
  {
   "cell_type": "code",
   "execution_count": 40,
   "metadata": {},
   "outputs": [
    {
     "data": {
      "image/png": "[encoded data removed]",
      "text/plain": [
       "<Figure size 432x288 with 1 Axes>"
      ]
     },
     "metadata": {
      "needs_background": "light"
     },
     "output_type": "display_data"
    }
   ],
   "source": [
    "plt.bar(x=range(1, len(per_var)+1), height=per_var, tick_label=labels)\n",
    "plt.xlabel('Principal components')\n",
    "plt.ylabel('Percentage of Explained variance')\n",
    "plt.title('Scree plot')\n",
    "plt.show()"
   ]
  },
  {
   "cell_type": "code",
   "execution_count": 43,
   "metadata": {},
   "outputs": [
    {
     "data": {
      "text/html": [
       "<div>\n",
       "<style scoped>\n",
       "    .dataframe tbody tr th:only-of-type {\n",
       "        vertical-align: middle;\n",
       "    }\n",
       "\n",
       "    .dataframe tbody tr th {\n",
       "        vertical-align: top;\n",
       "    }\n",
       "\n",
       "    .dataframe thead th {\n",
       "        text-align: right;\n",
       "    }\n",
       "</style>\n",
       "<table border=\"1\" class=\"dataframe\">\n",
       "  <thead>\n",
       "    <tr style=\"text-align: right;\">\n",
       "      <th></th>\n",
       "      <th>PC1</th>\n",
       "      <th>PC2</th>\n",
       "      <th>PC3</th>\n",
       "      <th>PC4</th>\n",
       "      <th>PC5</th>\n",
       "      <th>PC6</th>\n",
       "      <th>PC7</th>\n",
       "      <th>PC8</th>\n",
       "      <th>PC9</th>\n",
       "      <th>PC10</th>\n",
       "    </tr>\n",
       "  </thead>\n",
       "  <tbody>\n",
       "    <tr>\n",
       "      <th>wt1</th>\n",
       "      <td>9.290662</td>\n",
       "      <td>1.454840</td>\n",
       "      <td>2.778337</td>\n",
       "      <td>-0.161513</td>\n",
       "      <td>-0.368163</td>\n",
       "      <td>-1.461201</td>\n",
       "      <td>-0.058997</td>\n",
       "      <td>-1.276158</td>\n",
       "      <td>0.091677</td>\n",
       "      <td>5.702722e-18</td>\n",
       "    </tr>\n",
       "    <tr>\n",
       "      <th>wt2</th>\n",
       "      <td>9.484024</td>\n",
       "      <td>0.922650</td>\n",
       "      <td>1.420756</td>\n",
       "      <td>-1.363478</td>\n",
       "      <td>-0.912922</td>\n",
       "      <td>1.214718</td>\n",
       "      <td>-0.478313</td>\n",
       "      <td>1.662452</td>\n",
       "      <td>0.162959</td>\n",
       "      <td>-4.490647e-16</td>\n",
       "    </tr>\n",
       "    <tr>\n",
       "      <th>wt3</th>\n",
       "      <td>9.625105</td>\n",
       "      <td>-2.326359</td>\n",
       "      <td>-0.690501</td>\n",
       "      <td>0.132251</td>\n",
       "      <td>-0.101013</td>\n",
       "      <td>1.833568</td>\n",
       "      <td>-0.164245</td>\n",
       "      <td>-1.430639</td>\n",
       "      <td>0.072360</td>\n",
       "      <td>-2.878293e-16</td>\n",
       "    </tr>\n",
       "    <tr>\n",
       "      <th>wt4</th>\n",
       "      <td>9.066786</td>\n",
       "      <td>-0.696670</td>\n",
       "      <td>-2.345879</td>\n",
       "      <td>1.101314</td>\n",
       "      <td>0.304736</td>\n",
       "      <td>-1.423421</td>\n",
       "      <td>-1.515359</td>\n",
       "      <td>0.580977</td>\n",
       "      <td>0.128870</td>\n",
       "      <td>4.931601e-16</td>\n",
       "    </tr>\n",
       "    <tr>\n",
       "      <th>wt5</th>\n",
       "      <td>9.442631</td>\n",
       "      <td>0.666059</td>\n",
       "      <td>-1.180894</td>\n",
       "      <td>0.296212</td>\n",
       "      <td>1.099387</td>\n",
       "      <td>-0.223156</td>\n",
       "      <td>2.179738</td>\n",
       "      <td>0.472976</td>\n",
       "      <td>-0.470544</td>\n",
       "      <td>2.135059e-16</td>\n",
       "    </tr>\n",
       "    <tr>\n",
       "      <th>ko1</th>\n",
       "      <td>-9.470574</td>\n",
       "      <td>3.045485</td>\n",
       "      <td>-1.878115</td>\n",
       "      <td>-1.462397</td>\n",
       "      <td>0.098973</td>\n",
       "      <td>0.458349</td>\n",
       "      <td>-0.611449</td>\n",
       "      <td>-0.681480</td>\n",
       "      <td>-0.768037</td>\n",
       "      <td>7.860457e-16</td>\n",
       "    </tr>\n",
       "    <tr>\n",
       "      <th>ko2</th>\n",
       "      <td>-9.283365</td>\n",
       "      <td>-1.357484</td>\n",
       "      <td>-1.159667</td>\n",
       "      <td>-1.394359</td>\n",
       "      <td>-1.852349</td>\n",
       "      <td>-0.831874</td>\n",
       "      <td>0.871596</td>\n",
       "      <td>-0.019338</td>\n",
       "      <td>0.956653</td>\n",
       "      <td>7.917896e-16</td>\n",
       "    </tr>\n",
       "    <tr>\n",
       "      <th>ko3</th>\n",
       "      <td>-9.334498</td>\n",
       "      <td>0.194676</td>\n",
       "      <td>0.751872</td>\n",
       "      <td>3.185390</td>\n",
       "      <td>-1.415286</td>\n",
       "      <td>0.379646</td>\n",
       "      <td>0.144804</td>\n",
       "      <td>0.257156</td>\n",
       "      <td>-0.688513</td>\n",
       "      <td>1.186861e-15</td>\n",
       "    </tr>\n",
       "    <tr>\n",
       "      <th>ko4</th>\n",
       "      <td>-9.328492</td>\n",
       "      <td>0.877803</td>\n",
       "      <td>0.710570</td>\n",
       "      <td>0.924931</td>\n",
       "      <td>1.867645</td>\n",
       "      <td>0.540323</td>\n",
       "      <td>-0.100613</td>\n",
       "      <td>0.079401</td>\n",
       "      <td>1.500641</td>\n",
       "      <td>6.178716e-16</td>\n",
       "    </tr>\n",
       "    <tr>\n",
       "      <th>ko5</th>\n",
       "      <td>-9.492280</td>\n",
       "      <td>-2.781000</td>\n",
       "      <td>1.593520</td>\n",
       "      <td>-1.258351</td>\n",
       "      <td>1.278992</td>\n",
       "      <td>-0.486953</td>\n",
       "      <td>-0.267162</td>\n",
       "      <td>0.354653</td>\n",
       "      <td>-0.986067</td>\n",
       "      <td>5.470996e-16</td>\n",
       "    </tr>\n",
       "  </tbody>\n",
       "</table>\n",
       "</div>"
      ],
      "text/plain": [
       "          PC1       PC2       PC3       PC4       PC5       PC6       PC7  \\\n",
       "wt1  9.290662  1.454840  2.778337 -0.161513 -0.368163 -1.461201 -0.058997   \n",
       "wt2  9.484024  0.922650  1.420756 -1.363478 -0.912922  1.214718 -0.478313   \n",
       "wt3  9.625105 -2.326359 -0.690501  0.132251 -0.101013  1.833568 -0.164245   \n",
       "wt4  9.066786 -0.696670 -2.345879  1.101314  0.304736 -1.423421 -1.515359   \n",
       "wt5  9.442631  0.666059 -1.180894  0.296212  1.099387 -0.223156  2.179738   \n",
       "ko1 -9.470574  3.045485 -1.878115 -1.462397  0.098973  0.458349 -0.611449   \n",
       "ko2 -9.283365 -1.357484 -1.159667 -1.394359 -1.852349 -0.831874  0.871596   \n",
       "ko3 -9.334498  0.194676  0.751872  3.185390 -1.415286  0.379646  0.144804   \n",
       "ko4 -9.328492  0.877803  0.710570  0.924931  1.867645  0.540323 -0.100613   \n",
       "ko5 -9.492280 -2.781000  1.593520 -1.258351  1.278992 -0.486953 -0.267162   \n",
       "\n",
       "          PC8       PC9          PC10  \n",
       "wt1 -1.276158  0.091677  5.702722e-18  \n",
       "wt2  1.662452  0.162959 -4.490647e-16  \n",
       "wt3 -1.430639  0.072360 -2.878293e-16  \n",
       "wt4  0.580977  0.128870  4.931601e-16  \n",
       "wt5  0.472976 -0.470544  2.135059e-16  \n",
       "ko1 -0.681480 -0.768037  7.860457e-16  \n",
       "ko2 -0.019338  0.956653  7.917896e-16  \n",
       "ko3  0.257156 -0.688513  1.186861e-15  \n",
       "ko4  0.079401  1.500641  6.178716e-16  \n",
       "ko5  0.354653 -0.986067  5.470996e-16  "
      ]
     },
     "execution_count": 43,
     "metadata": {},
     "output_type": "execute_result"
    }
   ],
   "source": [
    "pca_df = pd.DataFrame(pca_data, index=[*wt, *ko], columns=labels)\n",
    "pca_df"
   ]
  },
  {
   "cell_type": "code",
   "execution_count": 46,
   "metadata": {},
   "outputs": [
    {
     "data": {
      "image/png": "[encoded data removed]",
      "text/plain": [
       "<Figure size 432x288 with 1 Axes>"
      ]
     },
     "metadata": {
      "needs_background": "light"
     },
     "output_type": "display_data"
    }
   ],
   "source": [
    "plt.scatter(pca_df['PC1'], pca_df['PC2'])\n",
    "plt.xlabel('PC1 - {}'.format(per_var[0]))\n",
    "plt.ylabel('PC2 - {}'.format(per_var[1]))\n",
    "plt.title('Pca graph')\n",
    "for sample in pca_df.index:\n",
    "    plt.annotate(sample, (pca_df['PC1'].loc[sample], pca_df['PC2'].loc[sample]))\n",
    "plt.show()"
   ]
  },
  {
   "cell_type": "code",
   "execution_count": 47,
   "metadata": {},
   "outputs": [],
   "source": [
    "loading_scores = pd.Series(pca.components_[0], index=genes)"
   ]
  },
  {
   "cell_type": "code",
   "execution_count": 49,
   "metadata": {},
   "outputs": [],
   "source": [
    "sorted_loading_scores = loading_scores.abs().sort_values(ascending=False)"
   ]
  },
  {
   "cell_type": "code",
   "execution_count": 51,
   "metadata": {},
   "outputs": [
    {
     "data": {
      "text/plain": [
       "gene97    0.106531\n",
       "gene31    0.106524\n",
       "gene2     0.106516\n",
       "gene5     0.106438\n",
       "gene99    0.106428\n",
       "gene20    0.106405\n",
       "gene88    0.106389\n",
       "gene44    0.106389\n",
       "gene54    0.106388\n",
       "gene1     0.106387\n",
       "dtype: float64"
      ]
     },
     "execution_count": 51,
     "metadata": {},
     "output_type": "execute_result"
    }
   ],
   "source": [
    "sorted_loading_scores[:10]"
   ]
  }
 ],
 "metadata": {
  "kernelspec": {
   "display_name": "Python 3",
   "language": "python",
   "name": "python3"
  },
  "language_info": {
   "codemirror_mode": {
    "name": "ipython",
    "version": 3
   },
   "file_extension": ".py",
   "mimetype": "text/x-python",
   "name": "python",
   "nbconvert_exporter": "python",
   "pygments_lexer": "ipython3",
   "version": "3.7.2"
  },
  "toc": {
   "base_numbering": 1,
   "nav_menu": {},
   "number_sections": true,
   "sideBar": true,
   "skip_h1_title": false,
   "title_cell": "Table of Contents",
   "title_sidebar": "Contents",
   "toc_cell": false,
   "toc_position": {},
   "toc_section_display": true,
   "toc_window_display": false
  },
  "varInspector": {
   "cols": {
    "lenName": 16,
    "lenType": 16,
    "lenVar": 40
   },
   "kernels_config": {
    "python": {
     "delete_cmd_postfix": "",
     "delete_cmd_prefix": "del ",
     "library": "var_list.py",
     "varRefreshCmd": "print(var_dic_list())"
    },
    "r": {
     "delete_cmd_postfix": ") ",
     "delete_cmd_prefix": "rm(",
     "library": "var_list.r",
     "varRefreshCmd": "cat(var_dic_list()) "
    }
   },
   "types_to_exclude": [
    "module",
    "function",
    "builtin_function_or_method",
    "instance",
    "_Feature"
   ],
   "window_display": false
  }
 },
 "nbformat": 4,
 "nbformat_minor": 2
}
