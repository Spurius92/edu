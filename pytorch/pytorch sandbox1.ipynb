{
 "cells": [
  {
   "cell_type": "code",
   "execution_count": 1,
   "metadata": {},
   "outputs": [],
   "source": [
    "import torch\n",
    "import numpy as np"
   ]
  },
  {
   "cell_type": "code",
   "execution_count": 3,
   "metadata": {},
   "outputs": [],
   "source": [
    "def sumproducts(x, y):\n",
    "    \"\"\"\n",
    "    x is a 1-dimensional int numpy array.\n",
    "    y is a 1-dimensional int numpy array.\n",
    "    Return the sum of x[i] * y[j] for all pairs of indices i, j.\n",
    "\n",
    "    >>> sumproducts(np.arange(3000), np.arange(3000))\n",
    "    20236502250000\n",
    "\n",
    "    \"\"\"\n",
    "    result = 0\n",
    "    for i in range(len(x)):\n",
    "        for j in range(len(y)):\n",
    "            result += x[i] * y[j]\n",
    "    return result"
   ]
  },
  {
   "cell_type": "code",
   "execution_count": 50,
   "metadata": {},
   "outputs": [
    {
     "name": "stdout",
     "output_type": "stream",
     "text": [
      "54.8 µs ± 922 ns per loop (mean ± std. dev. of 7 runs, 10000 loops each)\n"
     ]
    }
   ],
   "source": [
    "%%timeit\n",
    "vectorize_sumproducts(np.arange(200), np.arange(100))"
   ]
  },
  {
   "cell_type": "code",
   "execution_count": 34,
   "metadata": {},
   "outputs": [],
   "source": [
    "def vectorize_sumproducts(x, y):\n",
    "#     x = np.arange(x)\n",
    "#     y = np.arange(y)\n",
    "#     result = sum(np.dot(x, y))\n",
    "    \n",
    "    return np.sum(x*y[: ,np.newaxis])"
   ]
  },
  {
   "cell_type": "code",
   "execution_count": 108,
   "metadata": {},
   "outputs": [],
   "source": [
    "def slice_fixed_point(x, l, start_point):\n",
    "    \"\"\"\n",
    "    x is a 3-dimensional int numpy array, (n, ). First dimension represent the number of instances in the array.\n",
    "    Second dimension is variable, depending on the length of a given instance. Third dimension is fixed\n",
    "    to the number of features extracted per utterance in an instance.\n",
    "    l is an integer representing the length of the utterances that the final array should have.\n",
    "    start_point is an integer representing the point at which the final utterance should start in.\n",
    "    Return a 3-dimensional int numpy array of shape (n, l, -1)\n",
    "\n",
    "    \"\"\"\n",
    "    try:\n",
    "        return x[: , :, start_point:start_point+l]\n",
    "    except IndexError:\n",
    "        return x[:, :, -l:]"
   ]
  },
  {
   "cell_type": "code",
   "execution_count": 112,
   "metadata": {},
   "outputs": [
    {
     "name": "stdout",
     "output_type": "stream",
     "text": [
      "[[[  0   1   2   3   4]\n",
      "  [  5   6   7   8   9]\n",
      "  [ 10  11  12  13  14]\n",
      "  [ 15  16  17  18  19]\n",
      "  [ 20  21  22  23  24]]\n",
      "\n",
      " [[ 25  26  27  28  29]\n",
      "  [ 30  31  32  33  34]\n",
      "  [ 35  36  37  38  39]\n",
      "  [ 40  41  42  43  44]\n",
      "  [ 45  46  47  48  49]]\n",
      "\n",
      " [[ 50  51  52  53  54]\n",
      "  [ 55  56  57  58  59]\n",
      "  [ 60  61  62  63  64]\n",
      "  [ 65  66  67  68  69]\n",
      "  [ 70  71  72  73  74]]\n",
      "\n",
      " [[ 75  76  77  78  79]\n",
      "  [ 80  81  82  83  84]\n",
      "  [ 85  86  87  88  89]\n",
      "  [ 90  91  92  93  94]\n",
      "  [ 95  96  97  98  99]]\n",
      "\n",
      " [[100 101 102 103 104]\n",
      "  [105 106 107 108 109]\n",
      "  [110 111 112 113 114]\n",
      "  [115 116 117 118 119]\n",
      "  [120 121 122 123 124]]\n",
      "\n",
      " [[125 126 127 128 129]\n",
      "  [130 131 132 133 134]\n",
      "  [135 136 137 138 139]\n",
      "  [140 141 142 143 144]\n",
      "  [145 146 147 148 149]]]\n"
     ]
    },
    {
     "data": {
      "text/plain": [
       "array([], shape=(6, 5, 0), dtype=int32)"
      ]
     },
     "execution_count": 112,
     "metadata": {},
     "output_type": "execute_result"
    }
   ],
   "source": [
    "x = np.arange(150).reshape(6,5,5)\n",
    "print(x)\n",
    "slice_fixed_point(x, 8, 8)"
   ]
  },
  {
   "cell_type": "code",
   "execution_count": 114,
   "metadata": {},
   "outputs": [],
   "source": [
    "def slice_random_point(x, l):\n",
    "    \"\"\"\n",
    "    x is a 3-dimensional int numpy array, (n, ). First dimension represent the number of instances in the array.\n",
    "    Second dimension is variable, depending on the length of a given instance. Third dimension is fixed\n",
    "    to the number of features extracted per utterance in an instance.\n",
    "    l is an integer representing the length of the utterances that the final array should be in.\n",
    "    Return a 3-dimensional int numpy array of shape (n, l, -1)\n",
    "\n",
    "    \"\"\"\n",
    "    randy = np.random.randint(0, len(x[2])-l)\n",
    "    return x[:, :, randy:randy+l]"
   ]
  },
  {
   "cell_type": "code",
   "execution_count": 115,
   "metadata": {},
   "outputs": [
    {
     "data": {
      "text/plain": [
       "array([[[  2,   3],\n",
       "        [  7,   8],\n",
       "        [ 12,  13],\n",
       "        [ 17,  18],\n",
       "        [ 22,  23]],\n",
       "\n",
       "       [[ 27,  28],\n",
       "        [ 32,  33],\n",
       "        [ 37,  38],\n",
       "        [ 42,  43],\n",
       "        [ 47,  48]],\n",
       "\n",
       "       [[ 52,  53],\n",
       "        [ 57,  58],\n",
       "        [ 62,  63],\n",
       "        [ 67,  68],\n",
       "        [ 72,  73]],\n",
       "\n",
       "       [[ 77,  78],\n",
       "        [ 82,  83],\n",
       "        [ 87,  88],\n",
       "        [ 92,  93],\n",
       "        [ 97,  98]],\n",
       "\n",
       "       [[102, 103],\n",
       "        [107, 108],\n",
       "        [112, 113],\n",
       "        [117, 118],\n",
       "        [122, 123]],\n",
       "\n",
       "       [[127, 128],\n",
       "        [132, 133],\n",
       "        [137, 138],\n",
       "        [142, 143],\n",
       "        [147, 148]]])"
      ]
     },
     "execution_count": 115,
     "metadata": {},
     "output_type": "execute_result"
    }
   ],
   "source": [
    "slice_random_point(x, 2)"
   ]
  },
  {
   "cell_type": "code",
   "execution_count": 162,
   "metadata": {},
   "outputs": [],
   "source": [
    "def pad_pattern_end(x):\n",
    "    \"\"\"\n",
    "    x is a 3-dimensional int numpy array, (n, ). First dimension represent the number of instances in the array.\n",
    "    Second dimension is variable, depending on the length of a given instance. Third dimension is fixed\n",
    "    to the number of features extracted per utterance in an instance.\n",
    "\n",
    "    Return a 3-dimensional int numpy array.\n",
    "\n",
    "    \"\"\"\n",
    "    max = len(x[2])\n",
    "    return np.pad(x[1], (0, max-len(x[2])), 'symmetric')"
   ]
  },
  {
   "cell_type": "code",
   "execution_count": 184,
   "metadata": {},
   "outputs": [
    {
     "data": {
      "text/plain": [
       "tensor([[ 0,  1,  2,  3,  4],\n",
       "        [ 5,  6,  7,  8,  9],\n",
       "        [10, 11, 12, 13, 14],\n",
       "        [15, 16, 17, 18, 19],\n",
       "        [20, 21, 22, 23, 24],\n",
       "        [25, 26, 27, 28, 29],\n",
       "        [30, 31, 32, 33, 34],\n",
       "        [35, 36, 37, 38, 39]], dtype=torch.int32)"
      ]
     },
     "execution_count": 184,
     "metadata": {},
     "output_type": "execute_result"
    }
   ],
   "source": [
    "pa = np.arange(40).reshape(8, 5)\n",
    "te = torch.tensor(3)\n",
    "def numpy2tensor(x):\n",
    "    \"\"\"\n",
    "    x is an numpy nd-array. \n",
    "\n",
    "    Return a pytorch Tensor of the same shape containing the same data.\n",
    "    \"\"\"\n",
    "    y = torch.from_numpy(x)\n",
    "    return y\n",
    "pa = numpy2tensor(pa)\n",
    "pa"
   ]
  },
  {
   "cell_type": "code",
   "execution_count": 185,
   "metadata": {},
   "outputs": [
    {
     "data": {
      "text/plain": [
       "array([[ 0,  1,  2,  3,  4],\n",
       "       [ 5,  6,  7,  8,  9],\n",
       "       [10, 11, 12, 13, 14],\n",
       "       [15, 16, 17, 18, 19],\n",
       "       [20, 21, 22, 23, 24],\n",
       "       [25, 26, 27, 28, 29],\n",
       "       [30, 31, 32, 33, 34],\n",
       "       [35, 36, 37, 38, 39]])"
      ]
     },
     "execution_count": 185,
     "metadata": {},
     "output_type": "execute_result"
    }
   ],
   "source": [
    "def tensor2numpy(x):\n",
    "    return x.numpy()\n",
    "tensor2numpy(pa)"
   ]
  },
  {
   "cell_type": "code",
   "execution_count": 164,
   "metadata": {},
   "outputs": [
    {
     "data": {
      "text/plain": [
       "array([55, 56, 57, 58, 59, 60, 61])"
      ]
     },
     "execution_count": 164,
     "metadata": {},
     "output_type": "execute_result"
    }
   ],
   "source": [
    "p = np.array([1,2,3,4,5,6,7,8,9])\n",
    "pad_pattern_end()"
   ]
  },
  {
   "cell_type": "code",
   "execution_count": 35,
   "metadata": {},
   "outputs": [
    {
     "name": "stdout",
     "output_type": "stream",
     "text": [
      "54.8 µs ± 510 ns per loop (mean ± std. dev. of 7 runs, 10000 loops each)\n"
     ]
    }
   ],
   "source": [
    "%timeit vectorize_sumproducts(np.arange(200), np.arange(100))"
   ]
  },
  {
   "cell_type": "code",
   "execution_count": 30,
   "metadata": {},
   "outputs": [
    {
     "name": "stdout",
     "output_type": "stream",
     "text": [
      "15.5 µs ± 833 ns per loop (mean ± std. dev. of 7 runs, 100000 loops each)\n"
     ]
    }
   ],
   "source": [
    "%timeit vectorize_sumproducts(np.arange(200), np.arange(100))"
   ]
  },
  {
   "cell_type": "code",
   "execution_count": 191,
   "metadata": {},
   "outputs": [
    {
     "data": {
      "text/plain": [
       "tensor([56, 56, 57, 58, 59, 60, 61], dtype=torch.int32)"
      ]
     },
     "execution_count": 191,
     "metadata": {},
     "output_type": "execute_result"
    }
   ],
   "source": [
    "w = np.array([55, 56, 57, 58, 59, 60, 61])\n",
    "w = torch.from_numpy(w)\n",
    "w.clamp(min=56)"
   ]
  },
  {
   "cell_type": "code",
   "execution_count": 194,
   "metadata": {},
   "outputs": [
    {
     "data": {
      "text/plain": [
       "tensor([57, 57, 57, 58, 58, 58, 58], dtype=torch.int32)"
      ]
     },
     "execution_count": 194,
     "metadata": {},
     "output_type": "execute_result"
    }
   ],
   "source": [
    "w.clamp(min=57, max=58)"
   ]
  },
  {
   "cell_type": "code",
   "execution_count": 201,
   "metadata": {},
   "outputs": [
    {
     "data": {
      "text/plain": [
       "tensor([9.1000, 9.2000, 9.3000, 9.4000])"
      ]
     },
     "execution_count": 201,
     "metadata": {},
     "output_type": "execute_result"
    }
   ],
   "source": [
    "start = torch.arange(1.,5.)\n",
    "stop = torch.empty(4).fill_(10)\n",
    "torch.lerp(start, stop, 0.9)"
   ]
  },
  {
   "cell_type": "code",
   "execution_count": 222,
   "metadata": {},
   "outputs": [],
   "source": [
    "def tensor_sumproducts(x,y):\n",
    "    \"\"\"\n",
    "    x is an n-dimensional pytorch Tensor.\n",
    "    y is an n-dimensional pytorch Tensor.\n",
    "\n",
    "    Return the sum of the element-wise product of the two tensors.\n",
    "    \"\"\"\n",
    "    y = y.reshape(len(y), 1)\n",
    "    return torch.sum(torch.mul(x, y))"
   ]
  },
  {
   "cell_type": "code",
   "execution_count": 224,
   "metadata": {},
   "outputs": [
    {
     "data": {
      "text/plain": [
       "tensor(20236502250000)"
      ]
     },
     "execution_count": 224,
     "metadata": {},
     "output_type": "execute_result"
    }
   ],
   "source": [
    "tensor_sumproducts(torch.arange(3000), torch.arange(3000))"
   ]
  },
  {
   "cell_type": "code",
   "execution_count": 5,
   "metadata": {},
   "outputs": [
    {
     "data": {
      "text/plain": [
       "array([[50. , 49. ],\n",
       "       [58.5, 61. ],\n",
       "       [43.5, 43.5]])"
      ]
     },
     "execution_count": 5,
     "metadata": {},
     "output_type": "execute_result"
    }
   ],
   "source": [
    "A = np.array([[6, 5, 3, 1], [3, 6, 2, 2], [3, 4, 3, 1]])\n",
    "B = np.array([[1.50, 1], [2, 2.5], [5, 4.5], [16, 17]])\n",
    "A @ B"
   ]
  },
  {
   "cell_type": "code",
   "execution_count": null,
   "metadata": {},
   "outputs": [],
   "source": []
  },
  {
   "cell_type": "code",
   "execution_count": null,
   "metadata": {},
   "outputs": [],
   "source": []
  },
  {
   "cell_type": "code",
   "execution_count": null,
   "metadata": {},
   "outputs": [],
   "source": []
  },
  {
   "cell_type": "markdown",
   "metadata": {},
   "source": [
    "$$55^5$$"
   ]
  }
 ],
 "metadata": {
  "kernelspec": {
   "display_name": "Python 3",
   "language": "python",
   "name": "python3"
  },
  "language_info": {
   "codemirror_mode": {
    "name": "ipython",
    "version": 3
   },
   "file_extension": ".py",
   "mimetype": "text/x-python",
   "name": "python",
   "nbconvert_exporter": "python",
   "pygments_lexer": "ipython3",
   "version": "3.7.2"
  }
 },
 "nbformat": 4,
 "nbformat_minor": 2
}
