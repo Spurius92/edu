{
 "cells": [
  {
   "cell_type": "code",
   "execution_count": 1,
   "metadata": {},
   "outputs": [],
   "source": [
    "import torch"
   ]
  },
  {
   "cell_type": "code",
   "execution_count": 38,
   "metadata": {},
   "outputs": [
    {
     "name": "stdout",
     "output_type": "stream",
     "text": [
      "tensor([[0.6626, 0.8179, 0.9206, 0.8778, 0.1940],\n",
      "        [0.6120, 0.6481, 0.4493, 0.6428, 0.2793],\n",
      "        [0.0894, 0.4483, 0.5677, 0.3497, 0.2935]])\n"
     ]
    },
    {
     "data": {
      "text/plain": [
       "(tensor([0.6626, 0.8179, 0.9206, 0.8778, 0.2935]), tensor([0, 0, 0, 0, 2]))"
      ]
     },
     "execution_count": 38,
     "metadata": {},
     "output_type": "execute_result"
    }
   ],
   "source": [
    "a = torch.rand(3, 5)\n",
    "print(a)\n",
    "torch.max(a,0)"
   ]
  },
  {
   "cell_type": "code",
   "execution_count": 39,
   "metadata": {},
   "outputs": [
    {
     "name": "stdout",
     "output_type": "stream",
     "text": [
      "tensor(1)\n"
     ]
    }
   ],
   "source": [
    "x = torch.tensor()\n",
    "print(x)"
   ]
  },
  {
   "cell_type": "code",
   "execution_count": 41,
   "metadata": {},
   "outputs": [],
   "source": [
    "import numpy as np\n",
    "X = np.array([ [0,0,1],[0,1,1],[1,0,1],[1,1,1] ])\n",
    "y = np.array([[0,1,1,0]]).T\n",
    "alpha, hidden_dim, dropout_percent, do_dropout = [0.5, 4, 0.2, True]\n",
    "synapse_1 = 2 * np.random.random((3, hidden_dim)) - 1\n",
    "synapse_2 = 2 * np.random.random((hidden_dim, 1)) - 1\n",
    "for i in range(600):\n",
    "    layer_1 = 1 / (1 + np.exp( - (np.dot(X, synapse_1))))\n",
    "    if do_dropout:\n",
    "        "
   ]
  },
  {
   "cell_type": "code",
   "execution_count": null,
   "metadata": {},
   "outputs": [],
   "source": []
  }
 ],
 "metadata": {
  "kernelspec": {
   "display_name": "Python [conda env:torch]",
   "language": "python",
   "name": "conda-env-torch-py"
  },
  "language_info": {
   "codemirror_mode": {
    "name": "ipython",
    "version": 3
   },
   "file_extension": ".py",
   "mimetype": "text/x-python",
   "name": "python",
   "nbconvert_exporter": "python",
   "pygments_lexer": "ipython3",
   "version": "3.7.1"
  }
 },
 "nbformat": 4,
 "nbformat_minor": 2
}
