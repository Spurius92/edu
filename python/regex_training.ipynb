{
 "cells": [
  {
   "cell_type": "code",
   "execution_count": 1,
   "metadata": {},
   "outputs": [],
   "source": [
    "import re"
   ]
  },
  {
   "cell_type": "code",
   "execution_count": null,
   "metadata": {},
   "outputs": [],
   "source": [
    "# [] указываются варианты на выбор. Подойдет любой из них. В том числе можно указывать символы через дефис\n",
    "# . ^ $ * + { } ( ) [ ] \\ | - метасимволы\n",
    "# \\d ~ [0-9]\n",
    "# \\D ~ [^0-9]\n",
    "# \\s ~ [ \\t\\n\\r\\f\\v] пробельные символы\n",
    "# \\S ~ [^ \\t\\n\\r\\f\\v]\n",
    "# \\w ~ [a-zA-Z0-9_] цифры, буквы и символ _\n",
    "# \\W ~ [^a-zA-Z0-9_]\n",
    "#символ точка используется, если нужно найти любой символ в тексте. Например, 'a.c' выдаст любые комбинации, где между a c есть что угодно\n",
    "# * используется после символа, чтобы найти егоб если он повторяется в тексте сколько угодно раз\n",
    "# + аналогично, но в жтом случае не будут найдены выражения, в которых 0 вхождений искомого символа\n",
    "# ? аналогично, но только для 0 или 1 вхождения искомого символа\n",
    "# {} для поиска конкретного количества вхождений искомого символа в выражение. {2} - 2, {2,4} - от 2 до 4б то есть и 3 тоже найдется"
   ]
  },
  {
   "cell_type": "code",
   "execution_count": 2,
   "metadata": {},
   "outputs": [
    {
     "name": "stdout",
     "output_type": "stream",
     "text": [
      "<function match at 0x0000018509A291E0>\n",
      "<function search at 0x0000018509A6E048>\n",
      "<function findall at 0x0000018509A6E268>\n",
      "<function sub at 0x0000018509A6E0D0>\n"
     ]
    }
   ],
   "source": [
    "print(re.match)\n",
    "print(re.search)\n",
    "print(re.findall)\n",
    "print(re.sub)"
   ]
  },
  {
   "cell_type": "code",
   "execution_count": 22,
   "metadata": {},
   "outputs": [
    {
     "name": "stdout",
     "output_type": "stream",
     "text": [
      "<re.Match object; span=(0, 3), match='abc'>\n"
     ]
    }
   ],
   "source": [
    "pattern = r'a[a-zA-Z]c'\n",
    "string = 'abc, aac, acc, aZc, aqc'\n",
    "match_object = re.match(pattern, string)\n",
    "print(match_object)"
   ]
  },
  {
   "cell_type": "code",
   "execution_count": 24,
   "metadata": {},
   "outputs": [
    {
     "name": "stdout",
     "output_type": "stream",
     "text": [
      "None\n"
     ]
    }
   ],
   "source": [
    "pattern = r'a[^a-zA-Z]c'\n",
    "string = 'abc, aac, acc, aZc, aqc'\n",
    "match_object = re.match(pattern, string)\n",
    "print(match_object)"
   ]
  },
  {
   "cell_type": "code",
   "execution_count": 19,
   "metadata": {},
   "outputs": [
    {
     "name": "stdout",
     "output_type": "stream",
     "text": [
      "<re.Match object; span=(0, 3), match='abc'>\n"
     ]
    }
   ],
   "source": [
    "search_obj = re.search(pattern, string)\n",
    "print(search_obj)"
   ]
  },
  {
   "cell_type": "code",
   "execution_count": 20,
   "metadata": {},
   "outputs": [
    {
     "name": "stdout",
     "output_type": "stream",
     "text": [
      "['abc', 'aac', 'acc', 'aZc', 'aqc']\n"
     ]
    }
   ],
   "source": [
    "all_inc = re.findall(pattern, string)\n",
    "print(all_inc)"
   ]
  },
  {
   "cell_type": "code",
   "execution_count": 21,
   "metadata": {},
   "outputs": [
    {
     "name": "stdout",
     "output_type": "stream",
     "text": [
      "a, a, a, a, a\n"
     ]
    }
   ],
   "source": [
    "fixed = re.sub(pattern, 'a', string)\n",
    "print(fixed)"
   ]
  },
  {
   "cell_type": "code",
   "execution_count": 17,
   "metadata": {},
   "outputs": [
    {
     "data": {
      "text/plain": [
       "'abc, aac, acc'"
      ]
     },
     "execution_count": 17,
     "metadata": {},
     "output_type": "execute_result"
    }
   ],
   "source": [
    "string"
   ]
  },
  {
   "cell_type": "code",
   "execution_count": null,
   "metadata": {},
   "outputs": [],
   "source": []
  },
  {
   "cell_type": "code",
   "execution_count": null,
   "metadata": {},
   "outputs": [],
   "source": []
  },
  {
   "cell_type": "code",
   "execution_count": null,
   "metadata": {},
   "outputs": [],
   "source": []
  },
  {
   "cell_type": "code",
   "execution_count": null,
   "metadata": {},
   "outputs": [],
   "source": []
  },
  {
   "cell_type": "code",
   "execution_count": null,
   "metadata": {},
   "outputs": [],
   "source": []
  },
  {
   "cell_type": "code",
   "execution_count": null,
   "metadata": {},
   "outputs": [],
   "source": []
  }
 ],
 "metadata": {
  "kernelspec": {
   "display_name": "Python [conda env:torch]",
   "language": "python",
   "name": "conda-env-torch-py"
  },
  "language_info": {
   "codemirror_mode": {
    "name": "ipython",
    "version": 3
   },
   "file_extension": ".py",
   "mimetype": "text/x-python",
   "name": "python",
   "nbconvert_exporter": "python",
   "pygments_lexer": "ipython3",
   "version": "3.7.1"
  }
 },
 "nbformat": 4,
 "nbformat_minor": 2
}
